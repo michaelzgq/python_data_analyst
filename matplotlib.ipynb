{
 "cells": [
  {
   "cell_type": "code",
   "execution_count": 2,
   "metadata": {},
   "outputs": [],
   "source": [
    "import matplotlib.pyplot as plt"
   ]
  },
  {
   "cell_type": "code",
   "execution_count": 3,
   "metadata": {},
   "outputs": [],
   "source": [
    "import numpy as np"
   ]
  },
  {
   "cell_type": "markdown",
   "metadata": {},
   "source": [
    "## 绘制散点图"
   ]
  },
  {
   "cell_type": "code",
   "execution_count": 23,
   "metadata": {},
   "outputs": [
    {
     "data": {
      "text/plain": [
       "array([[4.61636253e+00, 4.02801644e+00],\n",
       "       [4.08452677e+00, 1.33509705e+00],\n",
       "       [4.57494374e+00, 7.43454192e-01],\n",
       "       [3.12185389e+00, 1.97011582e-02],\n",
       "       [4.00590933e+00, 2.23784618e+00],\n",
       "       [1.12983628e+00, 1.42962475e+00],\n",
       "       [2.93664630e+00, 1.55491812e+00],\n",
       "       [2.18169661e+00, 4.42749438e+00],\n",
       "       [4.49206336e+00, 2.51435180e+00],\n",
       "       [5.12498284e-01, 1.68532306e+00],\n",
       "       [4.63150585e+00, 3.76063136e+00],\n",
       "       [3.67817699e+00, 1.01774146e+00],\n",
       "       [3.07523643e+00, 1.98552131e+00],\n",
       "       [4.34597491e+00, 8.68067761e-01],\n",
       "       [3.88919367e+00, 4.85459979e-01],\n",
       "       [2.34442349e+00, 4.74452933e+00],\n",
       "       [5.12447566e-01, 4.92703549e+00],\n",
       "       [3.65046693e+00, 2.70129031e+00],\n",
       "       [4.18946353e+00, 4.24171951e+00],\n",
       "       [4.74162219e+00, 1.86952362e+00],\n",
       "       [1.22065439e+00, 3.28461443e+00],\n",
       "       [2.27428502e+00, 9.91868841e-02],\n",
       "       [3.28263850e+00, 4.05855846e+00],\n",
       "       [3.64544768e+00, 3.31160454e+00],\n",
       "       [4.57398003e+00, 7.79407133e-02],\n",
       "       [2.34227092e+00, 3.23494225e+00],\n",
       "       [1.01375228e-01, 8.11423678e-01],\n",
       "       [3.83472248e+00, 4.37350205e+00],\n",
       "       [8.78648425e-01, 3.81753807e+00],\n",
       "       [4.38564377e+00, 4.54906520e+00],\n",
       "       [2.53467013e+00, 9.08963631e-01],\n",
       "       [4.10856611e+00, 4.71901084e+00],\n",
       "       [2.09589587e+00, 3.89602270e-02],\n",
       "       [4.48209736e+00, 3.79429806e+00],\n",
       "       [4.13348230e-01, 3.60044241e+00],\n",
       "       [1.34109613e+00, 1.60801826e+00],\n",
       "       [1.04535184e-01, 3.47227010e-01],\n",
       "       [1.00564293e+00, 8.58634786e-01],\n",
       "       [4.66267364e-01, 1.73978081e+00],\n",
       "       [2.23081122e+00, 9.90378245e-01],\n",
       "       [4.14319463e+00, 1.22417725e+00],\n",
       "       [2.15596089e+00, 4.66792517e+00],\n",
       "       [3.25695011e+00, 4.61266414e+00],\n",
       "       [2.68138496e+00, 1.07469990e+00],\n",
       "       [8.35534544e-01, 3.64182659e+00],\n",
       "       [1.02164282e+00, 2.73782192e+00],\n",
       "       [4.00459530e+00, 3.28965796e+00],\n",
       "       [1.05498804e+00, 2.49426336e-01],\n",
       "       [3.25060181e-01, 3.88349214e+00],\n",
       "       [3.71507208e-01, 1.44955957e+00],\n",
       "       [3.57687460e+00, 6.99353552e-01],\n",
       "       [1.17411202e+00, 3.34298331e+00],\n",
       "       [2.61486040e+00, 9.54994837e-01],\n",
       "       [2.93221599e+00, 2.30247192e+00],\n",
       "       [3.61833035e+00, 1.27206621e+00],\n",
       "       [1.04330323e+00, 4.52154231e+00],\n",
       "       [3.75488243e+00, 4.10995906e+00],\n",
       "       [4.96141033e+00, 1.82618434e+00],\n",
       "       [1.49657018e+00, 2.97054863e+00],\n",
       "       [1.64931334e+00, 3.36421257e+00],\n",
       "       [1.13306159e+00, 4.45121659e+00],\n",
       "       [2.51583170e-01, 1.84780036e+00],\n",
       "       [3.46304448e+00, 2.85003894e+00],\n",
       "       [3.76118239e+00, 3.93136632e+00],\n",
       "       [1.65131548e-01, 1.02373674e+00],\n",
       "       [4.51147053e+00, 1.21130538e-01],\n",
       "       [1.92307096e+00, 1.29175096e+00],\n",
       "       [1.15361522e+00, 4.19898881e+00],\n",
       "       [2.50606889e+00, 1.95372891e+00],\n",
       "       [1.05322712e+00, 4.56532518e+00],\n",
       "       [2.10461576e+00, 2.16950041e+00],\n",
       "       [4.49126378e+00, 4.96111702e+00],\n",
       "       [6.12908290e-01, 8.48848761e-01],\n",
       "       [3.34818331e-01, 1.09031454e+00],\n",
       "       [4.13429208e+00, 2.19668594e+00],\n",
       "       [4.17680650e+00, 6.87213831e-01],\n",
       "       [2.52470933e+00, 2.21226848e-01],\n",
       "       [4.51674212e+00, 4.43721501e+00],\n",
       "       [4.97479849e-01, 1.64150188e+00],\n",
       "       [3.72832538e+00, 3.08268634e-03],\n",
       "       [9.05490508e-01, 4.25645893e+00],\n",
       "       [1.92712658e+00, 4.30222790e+00],\n",
       "       [8.27851818e-01, 3.26941416e+00],\n",
       "       [2.02387456e-01, 3.85479855e-01],\n",
       "       [6.53985899e-01, 3.17978892e+00],\n",
       "       [1.75806458e+00, 2.69280925e-01],\n",
       "       [1.87036269e+00, 1.80689096e+00],\n",
       "       [2.67334189e+00, 2.67260270e+00],\n",
       "       [4.10280261e+00, 7.53994011e-01],\n",
       "       [5.03648830e-01, 5.90425440e-01],\n",
       "       [2.91901168e-01, 4.29113283e+00],\n",
       "       [3.13242157e+00, 4.40842925e+00],\n",
       "       [3.03509788e+00, 1.31165730e+00],\n",
       "       [4.46276058e+00, 1.71497682e+00],\n",
       "       [9.64635776e-01, 4.16539838e+00],\n",
       "       [3.46166200e+00, 1.12028650e+00],\n",
       "       [1.95835682e+00, 2.48317811e+00],\n",
       "       [3.25377559e+00, 3.54354756e+00],\n",
       "       [4.93024958e+00, 2.97601170e+00],\n",
       "       [7.16895430e-01, 4.05198194e-01]])"
      ]
     },
     "execution_count": 23,
     "metadata": {},
     "output_type": "execute_result"
    }
   ],
   "source": [
    "#生成第一种类型点\n",
    "array1 = np.random.uniform(0.0, 5.0, size = (100, 2))  # 从均匀分布中随机采样\n",
    "array1"
   ]
  },
  {
   "cell_type": "code",
   "execution_count": 8,
   "metadata": {},
   "outputs": [
    {
     "data": {
      "text/plain": [
       "array([[5.58441024, 8.03159769],\n",
       "       [8.19328013, 4.99150456],\n",
       "       [9.90989799, 7.10333136],\n",
       "       [9.52626148, 8.09422326],\n",
       "       [9.33532255, 8.88934588],\n",
       "       [8.12768937, 8.38358679],\n",
       "       [4.97289393, 8.29139804],\n",
       "       [8.88717867, 5.93090092],\n",
       "       [9.71124363, 7.78494861],\n",
       "       [8.67117462, 5.04267638],\n",
       "       [7.36887638, 7.58484138],\n",
       "       [5.26016572, 7.90235407],\n",
       "       [6.3038095 , 8.17785477],\n",
       "       [7.93823014, 4.82832073],\n",
       "       [9.48537772, 8.19507085],\n",
       "       [8.60194574, 9.87270326],\n",
       "       [9.41949798, 9.91165265],\n",
       "       [6.89399019, 5.97146213],\n",
       "       [9.8889523 , 9.73298756],\n",
       "       [9.4332147 , 5.43802112],\n",
       "       [7.18131677, 4.96133639],\n",
       "       [6.3078613 , 8.22522962],\n",
       "       [9.60411685, 5.78274181],\n",
       "       [8.64269504, 9.30114819],\n",
       "       [9.63748889, 9.55056792],\n",
       "       [7.71098299, 8.08454348],\n",
       "       [9.41661461, 6.25312085],\n",
       "       [7.45457435, 7.99095647],\n",
       "       [6.08102966, 7.56460736],\n",
       "       [4.30113893, 9.53887326],\n",
       "       [7.89153722, 8.61303316],\n",
       "       [5.15536181, 6.14848271],\n",
       "       [8.74912884, 8.6112026 ],\n",
       "       [7.61341022, 6.84181092],\n",
       "       [6.47023614, 9.54401755],\n",
       "       [4.46423722, 9.15018497],\n",
       "       [5.05720182, 4.29195153],\n",
       "       [7.49252257, 5.86906817],\n",
       "       [9.86643109, 8.59917265],\n",
       "       [7.48466256, 9.10757718],\n",
       "       [4.2332171 , 8.6408733 ],\n",
       "       [6.7300121 , 4.56361657],\n",
       "       [5.08142874, 5.5379842 ],\n",
       "       [8.53323434, 7.88815265],\n",
       "       [6.46956036, 7.50269528],\n",
       "       [4.52622891, 7.27244339],\n",
       "       [4.32761826, 9.84675042],\n",
       "       [8.2387555 , 5.71862775],\n",
       "       [5.80179076, 7.02930442],\n",
       "       [6.862078  , 7.16585155],\n",
       "       [7.13995143, 4.76570439],\n",
       "       [6.84549797, 8.18602381],\n",
       "       [4.948921  , 9.08154294],\n",
       "       [8.68784454, 7.45654482],\n",
       "       [9.94549618, 4.90150216],\n",
       "       [8.32170459, 8.43017199],\n",
       "       [9.68524524, 4.61861269],\n",
       "       [6.94646593, 7.6493503 ],\n",
       "       [9.84340841, 6.37167387],\n",
       "       [4.65755583, 5.93028708],\n",
       "       [7.28304876, 8.46786201],\n",
       "       [9.89048381, 6.42151668],\n",
       "       [7.64932796, 4.6278035 ],\n",
       "       [4.68876474, 6.40093075],\n",
       "       [4.75918712, 4.22370319],\n",
       "       [8.16528721, 8.80727648],\n",
       "       [6.51078112, 4.35365433],\n",
       "       [9.49783283, 8.45211927],\n",
       "       [9.75883174, 7.49583409],\n",
       "       [9.99703694, 7.45683657],\n",
       "       [8.53381288, 8.57239677],\n",
       "       [4.76204242, 7.2337655 ],\n",
       "       [6.99428538, 9.57104127],\n",
       "       [9.86518047, 9.59200873],\n",
       "       [8.94946445, 7.0000854 ],\n",
       "       [4.5062138 , 5.22159356],\n",
       "       [4.71560001, 6.61915616],\n",
       "       [9.53613418, 9.54902388],\n",
       "       [6.37370743, 4.69621066],\n",
       "       [5.38377401, 9.13966378],\n",
       "       [4.46732819, 5.63648564],\n",
       "       [6.07614104, 4.34559637],\n",
       "       [8.47603907, 5.26524606],\n",
       "       [9.76766068, 9.05946291],\n",
       "       [8.24233376, 7.90307487],\n",
       "       [7.62260989, 6.69124941],\n",
       "       [6.36242112, 6.62096949],\n",
       "       [6.39165279, 5.7083619 ],\n",
       "       [7.52370696, 5.60291571],\n",
       "       [7.77276102, 5.27410951],\n",
       "       [9.82855607, 9.01179259],\n",
       "       [8.57666075, 8.06821528],\n",
       "       [7.38590017, 8.23913907],\n",
       "       [8.20705141, 4.65245664],\n",
       "       [4.31265648, 6.99560123],\n",
       "       [7.40268299, 5.80103999],\n",
       "       [9.36438651, 8.16713184],\n",
       "       [8.32103164, 6.53076899],\n",
       "       [8.65704574, 4.36505678],\n",
       "       [7.9937537 , 9.99646215]])"
      ]
     },
     "execution_count": 8,
     "metadata": {},
     "output_type": "execute_result"
    }
   ],
   "source": [
    "#生成第二种类型点\n",
    "array2 = np.random.uniform(4.2, 10, size = (100, 2))  # 从均匀分布中随机采样\n",
    "array2"
   ]
  },
  {
   "cell_type": "code",
   "execution_count": 24,
   "metadata": {},
   "outputs": [],
   "source": [
    "np.savetxt('./matplot_test_datal.txt', array1, fmt = '%f %f', delimiter = '\\n')\n",
    "np.savetxt('./matplot_test_data2.txt', array2, fmt = '%f %f', delimiter = '\\n')"
   ]
  },
  {
   "cell_type": "code",
   "execution_count": 25,
   "metadata": {},
   "outputs": [],
   "source": [
    "a = np.loadtxt('./matplot_test_datal.txt')\n",
    "b = np.loadtxt('./matplot_test_data2.txt')"
   ]
  },
  {
   "cell_type": "code",
   "execution_count": 26,
   "metadata": {},
   "outputs": [
    {
     "data": {
      "text/plain": [
       "<matplotlib.collections.PathCollection at 0x116c1970>"
      ]
     },
     "execution_count": 26,
     "metadata": {},
     "output_type": "execute_result"
    },
    {
     "data": {
      "image/png": "[encoded data removed]",
      "text/plain": [
       "<Figure size 432x288 with 1 Axes>"
      ]
     },
     "metadata": {
      "needs_background": "light"
     },
     "output_type": "display_data"
    }
   ],
   "source": [
    "plt.scatter(a[: ,0],a[: ,1])\n",
    "plt.scatter(b[: ,0],b[: ,1])"
   ]
  },
  {
   "cell_type": "code",
   "execution_count": 28,
   "metadata": {},
   "outputs": [
    {
     "data": {
      "text/plain": [
       "(100, 2)"
      ]
     },
     "execution_count": 28,
     "metadata": {},
     "output_type": "execute_result"
    }
   ],
   "source": [
    "a.shape"
   ]
  },
  {
   "cell_type": "markdown",
   "metadata": {},
   "source": [
    "# www.matplotlib.org.cn/index.html    可以查询marker的样式"
   ]
  },
  {
   "cell_type": "code",
   "execution_count": 31,
   "metadata": {},
   "outputs": [
    {
     "data": {
      "text/plain": [
       "<matplotlib.collections.PathCollection at 0x11682b50>"
      ]
     },
     "execution_count": 31,
     "metadata": {},
     "output_type": "execute_result"
    },
    {
     "data": {
      "image/png": "[encoded data removed]",
      "text/plain": [
       "<Figure size 432x288 with 1 Axes>"
      ]
     },
     "metadata": {
      "needs_background": "light"
     },
     "output_type": "display_data"
    }
   ],
   "source": [
    "# s来规定绘制点的大小\n",
    "# marker对每一个点的样式的控制和改变\n",
    "\n",
    "x = [1,2,3,4]\n",
    "y = [3,2,4,6]\n",
    "plt.scatter(x, y, s = [20, 40, 80, 300], color = ['r', 'g', 'b', 'y'], marker = '^ ')   # color = '#ff0000'"
   ]
  },
  {
   "cell_type": "code",
   "execution_count": 33,
   "metadata": {},
   "outputs": [
    {
     "data": {
      "text/plain": [
       "array([178.22726144, 187.98110548, 173.59044415, 184.91352433,\n",
       "       176.68177732, 183.02278422, 163.90639627, 168.79814098,\n",
       "       196.49129558, 178.48914689, 173.68874048, 185.34787695,\n",
       "       167.64349651, 186.59056386, 190.44437592, 191.88627181,\n",
       "       174.63211567, 164.00508938, 182.93907574, 190.56490956])"
      ]
     },
     "execution_count": 33,
     "metadata": {},
     "output_type": "execute_result"
    }
   ],
   "source": [
    "male_height = np.random.uniform(160, 200, size = 20)\n",
    "male_height"
   ]
  },
  {
   "cell_type": "code",
   "execution_count": 35,
   "metadata": {},
   "outputs": [
    {
     "data": {
      "text/plain": [
       "array([ 0,  1,  2,  3,  4,  5,  6,  7,  8,  9, 10, 11, 12, 13, 14, 15, 16,\n",
       "       17, 18, 19, 20])"
      ]
     },
     "execution_count": 35,
     "metadata": {},
     "output_type": "execute_result"
    }
   ],
   "source": [
    "male_id = np.arange(21)\n",
    "male_id"
   ]
  },
  {
   "cell_type": "code",
   "execution_count": 36,
   "metadata": {},
   "outputs": [],
   "source": [
    "male_id = np.delete(male_id, 0)"
   ]
  },
  {
   "cell_type": "code",
   "execution_count": 37,
   "metadata": {},
   "outputs": [
    {
     "data": {
      "text/plain": [
       "array([ 1,  2,  3,  4,  5,  6,  7,  8,  9, 10, 11, 12, 13, 14, 15, 16, 17,\n",
       "       18, 19, 20])"
      ]
     },
     "execution_count": 37,
     "metadata": {},
     "output_type": "execute_result"
    }
   ],
   "source": [
    "male_id"
   ]
  },
  {
   "cell_type": "code",
   "execution_count": 39,
   "metadata": {},
   "outputs": [
    {
     "data": {
      "text/plain": [
       "array([[178.22726144],\n",
       "       [187.98110548],\n",
       "       [173.59044415],\n",
       "       [184.91352433],\n",
       "       [176.68177732],\n",
       "       [183.02278422],\n",
       "       [163.90639627],\n",
       "       [168.79814098],\n",
       "       [196.49129558],\n",
       "       [178.48914689],\n",
       "       [173.68874048],\n",
       "       [185.34787695],\n",
       "       [167.64349651],\n",
       "       [186.59056386],\n",
       "       [190.44437592],\n",
       "       [191.88627181],\n",
       "       [174.63211567],\n",
       "       [164.00508938],\n",
       "       [182.93907574],\n",
       "       [190.56490956]])"
      ]
     },
     "execution_count": 39,
     "metadata": {},
     "output_type": "execute_result"
    }
   ],
   "source": [
    "male_height = male_height.reshape(20, 1)\n",
    "male_height"
   ]
  },
  {
   "cell_type": "code",
   "execution_count": 41,
   "metadata": {},
   "outputs": [
    {
     "data": {
      "text/plain": [
       "array([[ 1],\n",
       "       [ 2],\n",
       "       [ 3],\n",
       "       [ 4],\n",
       "       [ 5],\n",
       "       [ 6],\n",
       "       [ 7],\n",
       "       [ 8],\n",
       "       [ 9],\n",
       "       [10],\n",
       "       [11],\n",
       "       [12],\n",
       "       [13],\n",
       "       [14],\n",
       "       [15],\n",
       "       [16],\n",
       "       [17],\n",
       "       [18],\n",
       "       [19],\n",
       "       [20]])"
      ]
     },
     "execution_count": 41,
     "metadata": {},
     "output_type": "execute_result"
    }
   ],
   "source": [
    "male_id = male_id.reshape(20, 1)\n",
    "male_id"
   ]
  },
  {
   "cell_type": "code",
   "execution_count": 46,
   "metadata": {},
   "outputs": [
    {
     "data": {
      "text/plain": [
       "array([[  1.        , 178.22726144],\n",
       "       [  2.        , 187.98110548],\n",
       "       [  3.        , 173.59044415],\n",
       "       [  4.        , 184.91352433],\n",
       "       [  5.        , 176.68177732],\n",
       "       [  6.        , 183.02278422],\n",
       "       [  7.        , 163.90639627],\n",
       "       [  8.        , 168.79814098],\n",
       "       [  9.        , 196.49129558],\n",
       "       [ 10.        , 178.48914689],\n",
       "       [ 11.        , 173.68874048],\n",
       "       [ 12.        , 185.34787695],\n",
       "       [ 13.        , 167.64349651],\n",
       "       [ 14.        , 186.59056386],\n",
       "       [ 15.        , 190.44437592],\n",
       "       [ 16.        , 191.88627181],\n",
       "       [ 17.        , 174.63211567],\n",
       "       [ 18.        , 164.00508938],\n",
       "       [ 19.        , 182.93907574],\n",
       "       [ 20.        , 190.56490956]])"
      ]
     },
     "execution_count": 46,
     "metadata": {},
     "output_type": "execute_result"
    }
   ],
   "source": [
    "male = np.concatenate((male_id, male_height), axis = 1)\n",
    "male"
   ]
  },
  {
   "cell_type": "code",
   "execution_count": 48,
   "metadata": {},
   "outputs": [
    {
     "data": {
      "text/plain": [
       "array([[  1.        , 157.00584151],\n",
       "       [  2.        , 159.21607882],\n",
       "       [  3.        , 162.65644726],\n",
       "       [  4.        , 152.76568769],\n",
       "       [  5.        , 165.46029899],\n",
       "       [  6.        , 150.27042904],\n",
       "       [  7.        , 151.86688561],\n",
       "       [  8.        , 162.50559596],\n",
       "       [  9.        , 140.60312804],\n",
       "       [ 10.        , 158.16981561],\n",
       "       [ 11.        , 145.58331196],\n",
       "       [ 12.        , 161.61449435],\n",
       "       [ 13.        , 165.47800088],\n",
       "       [ 14.        , 152.87875633],\n",
       "       [ 15.        , 160.46051635],\n",
       "       [ 16.        , 167.06533557],\n",
       "       [ 17.        , 164.916949  ],\n",
       "       [ 18.        , 153.04276538],\n",
       "       [ 19.        , 155.49203187],\n",
       "       [ 20.        , 163.56057982]])"
      ]
     },
     "execution_count": 48,
     "metadata": {},
     "output_type": "execute_result"
    }
   ],
   "source": [
    "female_height = np.random.uniform(140, 170, size = 20)\n",
    "female_height\n",
    "female_id = np.arange(21)\n",
    "female_id\n",
    "female_id = np.delete(female_id, 0)\n",
    "female_height = female_height.reshape(20, 1)\n",
    "female_height\n",
    "female_id = female_id.reshape(20, 1)\n",
    "female_id\n",
    "female = np.concatenate((female_id, female_height), axis = 1)\n",
    "female"
   ]
  },
  {
   "cell_type": "code",
   "execution_count": 49,
   "metadata": {},
   "outputs": [
    {
     "data": {
      "text/plain": [
       "array([[  1.        , 178.22726144],\n",
       "       [  2.        , 187.98110548],\n",
       "       [  3.        , 173.59044415],\n",
       "       [  4.        , 184.91352433],\n",
       "       [  5.        , 176.68177732],\n",
       "       [  6.        , 183.02278422],\n",
       "       [  7.        , 163.90639627],\n",
       "       [  8.        , 168.79814098],\n",
       "       [  9.        , 196.49129558],\n",
       "       [ 10.        , 178.48914689],\n",
       "       [ 11.        , 173.68874048],\n",
       "       [ 12.        , 185.34787695],\n",
       "       [ 13.        , 167.64349651],\n",
       "       [ 14.        , 186.59056386],\n",
       "       [ 15.        , 190.44437592],\n",
       "       [ 16.        , 191.88627181],\n",
       "       [ 17.        , 174.63211567],\n",
       "       [ 18.        , 164.00508938],\n",
       "       [ 19.        , 182.93907574],\n",
       "       [ 20.        , 190.56490956],\n",
       "       [  1.        , 157.00584151],\n",
       "       [  2.        , 159.21607882],\n",
       "       [  3.        , 162.65644726],\n",
       "       [  4.        , 152.76568769],\n",
       "       [  5.        , 165.46029899],\n",
       "       [  6.        , 150.27042904],\n",
       "       [  7.        , 151.86688561],\n",
       "       [  8.        , 162.50559596],\n",
       "       [  9.        , 140.60312804],\n",
       "       [ 10.        , 158.16981561],\n",
       "       [ 11.        , 145.58331196],\n",
       "       [ 12.        , 161.61449435],\n",
       "       [ 13.        , 165.47800088],\n",
       "       [ 14.        , 152.87875633],\n",
       "       [ 15.        , 160.46051635],\n",
       "       [ 16.        , 167.06533557],\n",
       "       [ 17.        , 164.916949  ],\n",
       "       [ 18.        , 153.04276538],\n",
       "       [ 19.        , 155.49203187],\n",
       "       [ 20.        , 163.56057982]])"
      ]
     },
     "execution_count": 49,
     "metadata": {},
     "output_type": "execute_result"
    }
   ],
   "source": [
    "X = np.concatenate((male, female)) # 样本数据一般X表示\n",
    "X"
   ]
  },
  {
   "cell_type": "code",
   "execution_count": 52,
   "metadata": {},
   "outputs": [
    {
     "data": {
      "text/plain": [
       "array([1., 1., 1., 1., 1., 1., 1., 1., 1., 1., 1., 1., 1., 1., 1., 1., 1.,\n",
       "       1., 1., 1., 0., 0., 0., 0., 0., 0., 0., 0., 0., 0., 0., 0., 0., 0.,\n",
       "       0., 0., 0., 0., 0., 0.])"
      ]
     },
     "execution_count": 52,
     "metadata": {},
     "output_type": "execute_result"
    }
   ],
   "source": [
    "y = np.concatenate([np.ones(20), np.zeros(20)])\n",
    "y"
   ]
  },
  {
   "cell_type": "code",
   "execution_count": 54,
   "metadata": {},
   "outputs": [
    {
     "data": {
      "text/plain": [
       "array([[  1.        , 157.00584151],\n",
       "       [  2.        , 159.21607882],\n",
       "       [  3.        , 162.65644726],\n",
       "       [  4.        , 152.76568769],\n",
       "       [  5.        , 165.46029899],\n",
       "       [  6.        , 150.27042904],\n",
       "       [  7.        , 151.86688561],\n",
       "       [  8.        , 162.50559596],\n",
       "       [  9.        , 140.60312804],\n",
       "       [ 10.        , 158.16981561],\n",
       "       [ 11.        , 145.58331196],\n",
       "       [ 12.        , 161.61449435],\n",
       "       [ 13.        , 165.47800088],\n",
       "       [ 14.        , 152.87875633],\n",
       "       [ 15.        , 160.46051635],\n",
       "       [ 16.        , 167.06533557],\n",
       "       [ 17.        , 164.916949  ],\n",
       "       [ 18.        , 153.04276538],\n",
       "       [ 19.        , 155.49203187],\n",
       "       [ 20.        , 163.56057982]])"
      ]
     },
     "execution_count": 54,
     "metadata": {},
     "output_type": "execute_result"
    }
   ],
   "source": [
    "X[y == 0]"
   ]
  },
  {
   "cell_type": "code",
   "execution_count": 60,
   "metadata": {},
   "outputs": [
    {
     "data": {
      "image/png": "[encoded data removed]",
      "text/plain": [
       "<Figure size 432x288 with 1 Axes>"
      ]
     },
     "metadata": {
      "needs_background": "light"
     },
     "output_type": "display_data"
    }
   ],
   "source": [
    "plt.scatter(X[y==1, 0], X[y==1, 1], color = 'r')\n",
    "plt.scatter(X[y==0, 0], X[y==0, 1], color = 'y')\n",
    "plt.show()"
   ]
  },
  {
   "cell_type": "markdown",
   "metadata": {},
   "source": [
    "## 折线图"
   ]
  },
  {
   "cell_type": "code",
   "execution_count": 4,
   "metadata": {},
   "outputs": [
    {
     "data": {
      "text/plain": [
       "array([0, 1, 2, 3, 4, 5, 6, 7, 8, 9])"
      ]
     },
     "execution_count": 4,
     "metadata": {},
     "output_type": "execute_result"
    }
   ],
   "source": [
    "x = np.arange(10)\n",
    "x"
   ]
  },
  {
   "cell_type": "code",
   "execution_count": 5,
   "metadata": {},
   "outputs": [
    {
     "data": {
      "text/plain": [
       "array([4.17022005e-01, 7.20324493e-01, 1.14374817e-04, 3.02332573e-01,\n",
       "       1.46755891e-01, 9.23385948e-02, 1.86260211e-01, 3.45560727e-01,\n",
       "       3.96767474e-01, 5.38816734e-01])"
      ]
     },
     "execution_count": 5,
     "metadata": {},
     "output_type": "execute_result"
    }
   ],
   "source": [
    "np.random.seed(1)\n",
    "y = np.random.random(size=10)\n",
    "y"
   ]
  },
  {
   "cell_type": "code",
   "execution_count": 73,
   "metadata": {},
   "outputs": [
    {
     "data": {
      "image/png": "[encoded data removed]",
      "text/plain": [
       "<Figure size 432x288 with 1 Axes>"
      ]
     },
     "metadata": {
      "needs_background": "light"
     },
     "output_type": "display_data"
    }
   ],
   "source": [
    "plt.plot(x, y, color = 'y',  marker = '^', linestyle = '--')\n",
    "plt.show()"
   ]
  },
  {
   "cell_type": "code",
   "execution_count": 76,
   "metadata": {},
   "outputs": [
    {
     "data": {
      "image/png": "[encoded data removed]",
      "text/plain": [
       "<Figure size 432x288 with 1 Axes>"
      ]
     },
     "metadata": {
      "needs_background": "light"
     },
     "output_type": "display_data"
    }
   ],
   "source": [
    "plt.plot(x, y, 'b--o')\n",
    "plt.show()"
   ]
  },
  {
   "cell_type": "code",
   "execution_count": 77,
   "metadata": {},
   "outputs": [
    {
     "data": {
      "text/plain": [
       "array([ 0.        ,  0.1010101 ,  0.2020202 ,  0.3030303 ,  0.4040404 ,\n",
       "        0.50505051,  0.60606061,  0.70707071,  0.80808081,  0.90909091,\n",
       "        1.01010101,  1.11111111,  1.21212121,  1.31313131,  1.41414141,\n",
       "        1.51515152,  1.61616162,  1.71717172,  1.81818182,  1.91919192,\n",
       "        2.02020202,  2.12121212,  2.22222222,  2.32323232,  2.42424242,\n",
       "        2.52525253,  2.62626263,  2.72727273,  2.82828283,  2.92929293,\n",
       "        3.03030303,  3.13131313,  3.23232323,  3.33333333,  3.43434343,\n",
       "        3.53535354,  3.63636364,  3.73737374,  3.83838384,  3.93939394,\n",
       "        4.04040404,  4.14141414,  4.24242424,  4.34343434,  4.44444444,\n",
       "        4.54545455,  4.64646465,  4.74747475,  4.84848485,  4.94949495,\n",
       "        5.05050505,  5.15151515,  5.25252525,  5.35353535,  5.45454545,\n",
       "        5.55555556,  5.65656566,  5.75757576,  5.85858586,  5.95959596,\n",
       "        6.06060606,  6.16161616,  6.26262626,  6.36363636,  6.46464646,\n",
       "        6.56565657,  6.66666667,  6.76767677,  6.86868687,  6.96969697,\n",
       "        7.07070707,  7.17171717,  7.27272727,  7.37373737,  7.47474747,\n",
       "        7.57575758,  7.67676768,  7.77777778,  7.87878788,  7.97979798,\n",
       "        8.08080808,  8.18181818,  8.28282828,  8.38383838,  8.48484848,\n",
       "        8.58585859,  8.68686869,  8.78787879,  8.88888889,  8.98989899,\n",
       "        9.09090909,  9.19191919,  9.29292929,  9.39393939,  9.49494949,\n",
       "        9.5959596 ,  9.6969697 ,  9.7979798 ,  9.8989899 , 10.        ])"
      ]
     },
     "execution_count": 77,
     "metadata": {},
     "output_type": "execute_result"
    }
   ],
   "source": [
    "x = np.linspace(0,10, 100)\n",
    "x"
   ]
  },
  {
   "cell_type": "code",
   "execution_count": 79,
   "metadata": {},
   "outputs": [
    {
     "data": {
      "text/plain": [
       "array([ 0.        ,  0.10083842,  0.20064886,  0.2984138 ,  0.39313661,\n",
       "        0.48385164,  0.56963411,  0.64960951,  0.72296256,  0.78894546,\n",
       "        0.84688556,  0.8961922 ,  0.93636273,  0.96698762,  0.98775469,\n",
       "        0.99845223,  0.99897117,  0.98930624,  0.96955595,  0.93992165,\n",
       "        0.90070545,  0.85230712,  0.79522006,  0.73002623,  0.65739025,\n",
       "        0.57805259,  0.49282204,  0.40256749,  0.30820902,  0.21070855,\n",
       "        0.11106004,  0.01027934, -0.09060615, -0.19056796, -0.28858706,\n",
       "       -0.38366419, -0.47483011, -0.56115544, -0.64176014, -0.7158225 ,\n",
       "       -0.7825875 , -0.84137452, -0.89158426, -0.93270486, -0.96431712,\n",
       "       -0.98609877, -0.99782778, -0.99938456, -0.99075324, -0.97202182,\n",
       "       -0.94338126, -0.90512352, -0.85763861, -0.80141062, -0.73701276,\n",
       "       -0.66510151, -0.58640998, -0.50174037, -0.41195583, -0.31797166,\n",
       "       -0.22074597, -0.12126992, -0.0205576 ,  0.0803643 ,  0.18046693,\n",
       "        0.27872982,  0.37415123,  0.46575841,  0.55261747,  0.63384295,\n",
       "        0.7086068 ,  0.77614685,  0.83577457,  0.8868821 ,  0.92894843,\n",
       "        0.96154471,  0.98433866,  0.99709789,  0.99969234,  0.99209556,\n",
       "        0.97438499,  0.94674118,  0.90944594,  0.86287948,  0.8075165 ,\n",
       "        0.74392141,  0.6727425 ,  0.59470541,  0.51060568,  0.42130064,\n",
       "        0.32770071,  0.23076008,  0.13146699,  0.03083368, -0.07011396,\n",
       "       -0.17034683, -0.26884313, -0.36459873, -0.45663749, -0.54402111])"
      ]
     },
     "execution_count": 79,
     "metadata": {},
     "output_type": "execute_result"
    }
   ],
   "source": [
    "# 正玄曲线\n",
    "y = np.sin(x)\n",
    "y"
   ]
  },
  {
   "cell_type": "code",
   "execution_count": 80,
   "metadata": {},
   "outputs": [
    {
     "data": {
      "image/png": "[encoded data removed]",
      "text/plain": [
       "<Figure size 432x288 with 1 Axes>"
      ]
     },
     "metadata": {
      "needs_background": "light"
     },
     "output_type": "display_data"
    }
   ],
   "source": [
    "plt.plot(x, y)\n",
    "plt.show()"
   ]
  },
  {
   "cell_type": "code",
   "execution_count": 81,
   "metadata": {},
   "outputs": [
    {
     "data": {
      "text/plain": [
       "array([ 1.        ,  0.99490282,  0.97966323,  0.95443659,  0.91948007,\n",
       "        0.87515004,  0.8218984 ,  0.76026803,  0.69088721,  0.61446323,\n",
       "        0.53177518,  0.44366602,  0.35103397,  0.25482335,  0.15601496,\n",
       "        0.0556161 , -0.04534973, -0.14585325, -0.24486989, -0.34139023,\n",
       "       -0.43443032, -0.52304166, -0.60632092, -0.68341913, -0.75355031,\n",
       "       -0.81599952, -0.87013012, -0.91539031, -0.95131866, -0.97754893,\n",
       "       -0.9938137 , -0.99994717, -0.9958868 , -0.981674  , -0.95745366,\n",
       "       -0.92347268, -0.88007748, -0.82771044, -0.76690542, -0.69828229,\n",
       "       -0.6225406 , -0.54045251, -0.45285485, -0.36064061, -0.26474988,\n",
       "       -0.16616018, -0.06587659,  0.03507857,  0.13567613,  0.23489055,\n",
       "        0.33171042,  0.4251487 ,  0.51425287,  0.59811455,  0.67587883,\n",
       "        0.74675295,  0.8100144 ,  0.86501827,  0.91120382,  0.94810022,\n",
       "        0.97533134,  0.99261957,  0.99978867,  0.99676556,  0.98358105,\n",
       "        0.96036956,  0.9273677 ,  0.88491192,  0.83343502,  0.77346177,\n",
       "        0.70560358,  0.63055219,  0.54907273,  0.46199582,  0.37020915,\n",
       "        0.27464844,  0.17628785,  0.07613012, -0.0248037 , -0.12548467,\n",
       "       -0.2248864 , -0.32199555, -0.41582217, -0.50540974, -0.58984498,\n",
       "       -0.66826712, -0.7398767 , -0.8039437 , -0.859815  , -0.90692104,\n",
       "       -0.94478159, -0.97301068, -0.99132055, -0.99952453, -0.99753899,\n",
       "       -0.98538417, -0.96318398, -0.93116473, -0.88965286, -0.83907153])"
      ]
     },
     "execution_count": 81,
     "metadata": {},
     "output_type": "execute_result"
    }
   ],
   "source": [
    "y2 = np.cos(x)\n",
    "y2"
   ]
  },
  {
   "cell_type": "code",
   "execution_count": 82,
   "metadata": {},
   "outputs": [
    {
     "data": {
      "image/png": "[encoded data removed]",
      "text/plain": [
       "<Figure size 432x288 with 1 Axes>"
      ]
     },
     "metadata": {
      "needs_background": "light"
     },
     "output_type": "display_data"
    }
   ],
   "source": [
    "plt.plot(x,y2)\n",
    "plt.show()"
   ]
  },
  {
   "cell_type": "code",
   "execution_count": 85,
   "metadata": {},
   "outputs": [
    {
     "data": {
      "image/png": "[encoded data removed]",
      "text/plain": [
       "<Figure size 432x288 with 1 Axes>"
      ]
     },
     "metadata": {
      "needs_background": "light"
     },
     "output_type": "display_data"
    }
   ],
   "source": [
    "plt.plot(x,y, label='sin(x)')\n",
    "plt.plot(x,y2, label='cos(x)')\n",
    "plt.legend()\n",
    "plt.show()"
   ]
  },
  {
   "cell_type": "code",
   "execution_count": 86,
   "metadata": {},
   "outputs": [
    {
     "data": {
      "image/png": "[encoded data removed]",
      "text/plain": [
       "<Figure size 432x288 with 1 Axes>"
      ]
     },
     "metadata": {
      "needs_background": "light"
     },
     "output_type": "display_data"
    }
   ],
   "source": [
    "plt.plot(x,y, label='sin(x)')\n",
    "plt.plot(x,y2, label='cos(x)')\n",
    "plt.legend()\n",
    "plt.axis([-5, 15,-2, 2])\n",
    "plt.show()"
   ]
  },
  {
   "cell_type": "markdown",
   "metadata": {},
   "source": [
    "## 绘制柱状图和饼图"
   ]
  },
  {
   "cell_type": "code",
   "execution_count": 6,
   "metadata": {},
   "outputs": [],
   "source": [
    "x = ['Q1', 'Q2', 'Q3', 'Q4']\n",
    "y = [10, 30, 20, 60]"
   ]
  },
  {
   "cell_type": "code",
   "execution_count": 97,
   "metadata": {},
   "outputs": [
    {
     "data": {
      "image/png": "[encoded data removed]",
      "text/plain": [
       "<Figure size 432x288 with 1 Axes>"
      ]
     },
     "metadata": {
      "needs_background": "light"
     },
     "output_type": "display_data"
    }
   ],
   "source": [
    "plt.bar(x, y, color = 'g', width = 0.3)\n",
    "plt.grid(True)\n",
    "plt.show()"
   ]
  },
  {
   "cell_type": "code",
   "execution_count": 98,
   "metadata": {},
   "outputs": [
    {
     "data": {
      "image/png": "[encoded data removed]",
      "text/plain": [
       "<Figure size 432x288 with 1 Axes>"
      ]
     },
     "metadata": {
      "needs_background": "light"
     },
     "output_type": "display_data"
    }
   ],
   "source": [
    "plt.bar(x, y, color = 'g', width = 0.3)\n",
    "plt.grid(True)\n",
    "plt.text(0.2, 50, 'text')\n",
    "plt.show()"
   ]
  },
  {
   "cell_type": "code",
   "execution_count": 102,
   "metadata": {},
   "outputs": [
    {
     "data": {
      "image/png": "[encoded data removed]",
      "text/plain": [
       "<Figure size 432x288 with 1 Axes>"
      ]
     },
     "metadata": {
      "needs_background": "light"
     },
     "output_type": "display_data"
    }
   ],
   "source": [
    "rect = plt.bar(x, y, color = 'g', width = 0.3)\n",
    "plt.grid(True)\n",
    "\n",
    "\n",
    "#绘制标度值\n",
    "for index, item in enumerate(rect):\n",
    "    _x = item.get_x() + 0.1\n",
    "    _y = item.get_height()\n",
    "    plt.text(_x, _y, y[index])\n",
    "plt.ylim(0, 70)\n",
    "plt.show()"
   ]
  },
  {
   "cell_type": "code",
   "execution_count": 7,
   "metadata": {},
   "outputs": [
    {
     "data": {
      "text/plain": [
       "['Q1', 'Q2', 'Q3', 'Q4']"
      ]
     },
     "execution_count": 7,
     "metadata": {},
     "output_type": "execute_result"
    }
   ],
   "source": [
    "x"
   ]
  },
  {
   "cell_type": "code",
   "execution_count": 8,
   "metadata": {},
   "outputs": [
    {
     "data": {
      "text/plain": [
       "[10, 30, 20, 60]"
      ]
     },
     "execution_count": 8,
     "metadata": {},
     "output_type": "execute_result"
    }
   ],
   "source": [
    "y"
   ]
  },
  {
   "cell_type": "code",
   "execution_count": 9,
   "metadata": {},
   "outputs": [
    {
     "data": {
      "image/png": "[encoded data removed]",
      "text/plain": [
       "<Figure size 432x288 with 1 Axes>"
      ]
     },
     "metadata": {},
     "output_type": "display_data"
    }
   ],
   "source": [
    "plt.pie(y,labels = x)\n",
    "plt.show()"
   ]
  },
  {
   "cell_type": "code",
   "execution_count": 11,
   "metadata": {},
   "outputs": [
    {
     "data": {
      "image/png": "[encoded data removed]",
      "text/plain": [
       "<Figure size 432x288 with 1 Axes>"
      ]
     },
     "metadata": {},
     "output_type": "display_data"
    }
   ],
   "source": [
    "plt.axes(aspect = 1)\n",
    "plt.pie(y,labels = x, autopct = '%2.f%%')\n",
    "plt.show()"
   ]
  },
  {
   "cell_type": "code",
   "execution_count": 14,
   "metadata": {},
   "outputs": [
    {
     "data": {
      "image/png": "[encoded data removed]",
      "text/plain": [
       "<Figure size 432x288 with 1 Axes>"
      ]
     },
     "metadata": {},
     "output_type": "display_data"
    }
   ],
   "source": [
    "plt.axes(aspect = 1)\n",
    "plt.pie(y,labels = x, autopct = '%2.f%%', explode = [0.2, 0 , 0, 0], shadow = True)\n",
    "plt.show()"
   ]
  },
  {
   "cell_type": "markdown",
   "metadata": {},
   "source": [
    "## 直方图"
   ]
  },
  {
   "cell_type": "code",
   "execution_count": 17,
   "metadata": {},
   "outputs": [
    {
     "data": {
      "text/plain": [
       "267"
      ]
     },
     "execution_count": 17,
     "metadata": {},
     "output_type": "execute_result"
    }
   ],
   "source": [
    "np.random.seed(100)\n",
    "data = np.random.normal(9000, 3000, size = 300)\n",
    "data = data[data>=5000]\n",
    "len(data)"
   ]
  },
  {
   "cell_type": "code",
   "execution_count": 18,
   "metadata": {},
   "outputs": [
    {
     "data": {
      "image/png": "[encoded data removed]",
      "text/plain": [
       "<Figure size 432x288 with 1 Axes>"
      ]
     },
     "metadata": {
      "needs_background": "light"
     },
     "output_type": "display_data"
    }
   ],
   "source": [
    "plt.hist(data)\n",
    "plt.show()"
   ]
  },
  {
   "cell_type": "code",
   "execution_count": 21,
   "metadata": {},
   "outputs": [
    {
     "data": {
      "image/png": "[encoded data removed]",
      "text/plain": [
       "<Figure size 432x288 with 1 Axes>"
      ]
     },
     "metadata": {
      "needs_background": "light"
     },
     "output_type": "display_data"
    }
   ],
   "source": [
    "plt.hist(data, color = 'g', rwidth = 0.6, alpha = 0.6)\n",
    "plt.show()"
   ]
  },
  {
   "cell_type": "code",
   "execution_count": 22,
   "metadata": {},
   "outputs": [
    {
     "data": {
      "image/png": "[encoded data removed]",
      "text/plain": [
       "<Figure size 432x288 with 1 Axes>"
      ]
     },
     "metadata": {
      "needs_background": "light"
     },
     "output_type": "display_data"
    }
   ],
   "source": [
    "plt.hist(data, color = 'g', rwidth = 0.6, alpha = 0.6, bins = 20)# bins 代表柱子个数\n",
    "plt.show()"
   ]
  },
  {
   "cell_type": "markdown",
   "metadata": {},
   "source": [
    "## 箱线图 -- 查看异常值"
   ]
  },
  {
   "cell_type": "code",
   "execution_count": 23,
   "metadata": {},
   "outputs": [
    {
     "data": {
      "text/plain": [
       "array([1, 2, 3, 4, 5, 6, 7, 8, 9])"
      ]
     },
     "execution_count": 23,
     "metadata": {},
     "output_type": "execute_result"
    }
   ],
   "source": [
    "data = np.arange(1, 10)\n",
    "data"
   ]
  },
  {
   "cell_type": "code",
   "execution_count": 25,
   "metadata": {},
   "outputs": [
    {
     "data": {
      "image/png": "[encoded data removed]",
      "text/plain": [
       "<Figure size 432x288 with 1 Axes>"
      ]
     },
     "metadata": {
      "needs_background": "light"
     },
     "output_type": "display_data"
    }
   ],
   "source": [
    "plt.boxplot(data)\n",
    "plt.show()"
   ]
  },
  {
   "cell_type": "code",
   "execution_count": 27,
   "metadata": {},
   "outputs": [
    {
     "data": {
      "text/plain": [
       "array([-1.74976547,  0.3426804 ,  1.1530358 , -0.25243604,  0.98132079,\n",
       "        0.51421884,  0.22117967, -1.07004333, -0.18949583,  0.25500144,\n",
       "       -0.45802699,  0.43516349, -0.58359505,  0.81684707,  0.67272081,\n",
       "       -0.10441114, -0.53128038,  1.02973269, -0.43813562, -1.11831825,\n",
       "        1.61898166,  1.54160517, -0.25187914, -0.84243574,  0.18451869,\n",
       "        0.9370822 ,  0.73100034,  1.36155613, -0.32623806,  0.05567601,\n",
       "        0.22239961, -1.443217  , -0.75635231,  0.81645401,  0.75044476,\n",
       "       -0.45594693,  1.18962227, -1.69061683, -1.35639905, -1.23243451,\n",
       "       -0.54443916, -0.66817174,  0.00731456, -0.61293874,  1.29974807,\n",
       "       -1.73309562, -0.9833101 ,  0.35750775, -1.6135785 ,  1.47071387,\n",
       "       -1.1880176 , -0.54974619, -0.94004616, -0.82793236,  0.10886347,\n",
       "        0.50780959, -0.86222735,  1.24946974, -0.07961125, -0.88973148,\n",
       "       -0.88179839,  0.01863895,  0.23784462,  0.01354855, -1.6355294 ,\n",
       "       -1.04420988,  0.61303888,  0.73620521,  1.02692144, -1.43219061,\n",
       "       -1.8411883 ,  0.36609323, -0.33177714, -0.68921798,  2.03460756,\n",
       "       -0.55071441,  0.75045333, -1.30699234,  0.58057334, -1.10452309,\n",
       "        0.69012147,  0.68689007, -1.56668753,  0.90497412,  0.7788224 ,\n",
       "        0.42823287,  0.10887199,  0.02828363, -0.57882582, -1.1994512 ,\n",
       "       -1.70595201,  0.36916396,  1.87657343, -0.37690335,  1.83193608,\n",
       "        0.00301743, -0.07602347,  0.00395759, -0.18501411, -2.48715154])"
      ]
     },
     "execution_count": 27,
     "metadata": {},
     "output_type": "execute_result"
    }
   ],
   "source": [
    "np.random.seed(100)\n",
    "data = np.random.normal(size = 100)\n",
    "data"
   ]
  },
  {
   "cell_type": "code",
   "execution_count": 28,
   "metadata": {},
   "outputs": [
    {
     "data": {
      "image/png": "[encoded data removed]",
      "text/plain": [
       "<Figure size 432x288 with 1 Axes>"
      ]
     },
     "metadata": {
      "needs_background": "light"
     },
     "output_type": "display_data"
    }
   ],
   "source": [
    "plt.hist(data)\n",
    "plt.show()"
   ]
  },
  {
   "cell_type": "code",
   "execution_count": 31,
   "metadata": {},
   "outputs": [
    {
     "data": {
      "image/png": "[encoded data removed]",
      "text/plain": [
       "<Figure size 432x288 with 1 Axes>"
      ]
     },
     "metadata": {
      "needs_background": "light"
     },
     "output_type": "display_data"
    }
   ],
   "source": [
    "data = np.concatenate([data,[4, 7, 8, 9, -4]])\n",
    "plt.boxplot(data)\n",
    "plt.show()"
   ]
  },
  {
   "cell_type": "code",
   "execution_count": 32,
   "metadata": {},
   "outputs": [
    {
     "data": {
      "image/png": "[encoded data removed]",
      "text/plain": [
       "<Figure size 432x288 with 1 Axes>"
      ]
     },
     "metadata": {
      "needs_background": "light"
     },
     "output_type": "display_data"
    }
   ],
   "source": [
    "# whis 可以指定上下边界， 四分位距离，默认为1.5倍的四分位差\n",
    "plt.boxplot(data, whis = 3)\n",
    "plt.show()"
   ]
  },
  {
   "cell_type": "code",
   "execution_count": 34,
   "metadata": {},
   "outputs": [
    {
     "data": {
      "image/png": "[encoded data removed]",
      "text/plain": [
       "<Figure size 432x288 with 1 Axes>"
      ]
     },
     "metadata": {
      "needs_background": "light"
     },
     "output_type": "display_data"
    }
   ],
   "source": [
    "plt.boxplot(data, showmeans = True, meanline = True)\n",
    "plt.show()"
   ]
  },
  {
   "cell_type": "markdown",
   "metadata": {},
   "source": [
    "## 字图"
   ]
  },
  {
   "cell_type": "code",
   "execution_count": 41,
   "metadata": {},
   "outputs": [
    {
     "data": {
      "image/png": "[encoded data removed]",
      "text/plain": [
       "<Figure size 432x288 with 2 Axes>"
      ]
     },
     "metadata": {
      "needs_background": "light"
     },
     "output_type": "display_data"
    }
   ],
   "source": [
    "plt.subplot(2, 1, 1)\n",
    "plt.subplot(2, 1, 2)\n",
    "plt.show()"
   ]
  },
  {
   "cell_type": "code",
   "execution_count": 42,
   "metadata": {},
   "outputs": [
    {
     "data": {
      "image/png": "[encoded data removed]",
      "text/plain": [
       "<Figure size 432x288 with 2 Axes>"
      ]
     },
     "metadata": {
      "needs_background": "light"
     },
     "output_type": "display_data"
    }
   ],
   "source": [
    "plt.subplot(3, 1, 1)\n",
    "plt.subplot(3, 1, 2)\n",
    "plt.show()"
   ]
  },
  {
   "cell_type": "code",
   "execution_count": 43,
   "metadata": {},
   "outputs": [
    {
     "data": {
      "image/png": "[encoded data removed]",
      "text/plain": [
       "<Figure size 432x288 with 4 Axes>"
      ]
     },
     "metadata": {
      "needs_background": "light"
     },
     "output_type": "display_data"
    }
   ],
   "source": [
    "plt.subplot(2, 2, 1)\n",
    "plt.subplot(2, 2, 2)\n",
    "plt.subplot(2, 2, 3)\n",
    "plt.subplot(2, 2, 4)\n",
    "plt.show()"
   ]
  },
  {
   "cell_type": "code",
   "execution_count": 45,
   "metadata": {},
   "outputs": [
    {
     "data": {
      "image/png": "[encoded data removed]",
      "text/plain": [
       "<Figure size 432x288 with 3 Axes>"
      ]
     },
     "metadata": {
      "needs_background": "light"
     },
     "output_type": "display_data"
    }
   ],
   "source": [
    "plt.subplot(2, 2, 1)\n",
    "plt.subplot(2, 2, 2)\n",
    "plt.subplot(2, 1, 2)\n",
    "plt.show()"
   ]
  },
  {
   "cell_type": "code",
   "execution_count": 68,
   "metadata": {},
   "outputs": [
    {
     "data": {
      "text/html": [
       "<div>\n",
       "<style scoped>\n",
       "    .dataframe tbody tr th:only-of-type {\n",
       "        vertical-align: middle;\n",
       "    }\n",
       "\n",
       "    .dataframe tbody tr th {\n",
       "        vertical-align: top;\n",
       "    }\n",
       "\n",
       "    .dataframe thead th {\n",
       "        text-align: right;\n",
       "    }\n",
       "</style>\n",
       "<table border=\"1\" class=\"dataframe\">\n",
       "  <thead>\n",
       "    <tr style=\"text-align: right;\">\n",
       "      <th></th>\n",
       "      <th>排名</th>\n",
       "      <th>城市</th>\n",
       "      <th>月均工资</th>\n",
       "    </tr>\n",
       "  </thead>\n",
       "  <tbody>\n",
       "    <tr>\n",
       "      <th>0</th>\n",
       "      <td>1</td>\n",
       "      <td>北京</td>\n",
       "      <td>9240</td>\n",
       "    </tr>\n",
       "    <tr>\n",
       "      <th>1</th>\n",
       "      <td>2</td>\n",
       "      <td>上海</td>\n",
       "      <td>8962</td>\n",
       "    </tr>\n",
       "    <tr>\n",
       "      <th>2</th>\n",
       "      <td>3</td>\n",
       "      <td>深圳</td>\n",
       "      <td>8315</td>\n",
       "    </tr>\n",
       "    <tr>\n",
       "      <th>3</th>\n",
       "      <td>4</td>\n",
       "      <td>广州</td>\n",
       "      <td>7409</td>\n",
       "    </tr>\n",
       "    <tr>\n",
       "      <th>4</th>\n",
       "      <td>5</td>\n",
       "      <td>杭州</td>\n",
       "      <td>7330</td>\n",
       "    </tr>\n",
       "    <tr>\n",
       "      <th>5</th>\n",
       "      <td>6</td>\n",
       "      <td>宁波</td>\n",
       "      <td>7000</td>\n",
       "    </tr>\n",
       "    <tr>\n",
       "      <th>6</th>\n",
       "      <td>7</td>\n",
       "      <td>佛山</td>\n",
       "      <td>6889</td>\n",
       "    </tr>\n",
       "    <tr>\n",
       "      <th>7</th>\n",
       "      <td>8</td>\n",
       "      <td>东莞</td>\n",
       "      <td>6809</td>\n",
       "    </tr>\n",
       "  </tbody>\n",
       "</table>\n",
       "</div>"
      ],
      "text/plain": [
       "   排名  城市  月均工资\n",
       "0   1  北京  9240\n",
       "1   2  上海  8962\n",
       "2   3  深圳  8315\n",
       "3   4  广州  7409\n",
       "4   5  杭州  7330\n",
       "5   6  宁波  7000\n",
       "6   7  佛山  6889\n",
       "7   8  东莞  6809"
      ]
     },
     "execution_count": 68,
     "metadata": {},
     "output_type": "execute_result"
    }
   ],
   "source": [
    "import pandas  as pd\n",
    "data = pd.read_table('./salay.txt', sep = '\\t')\n",
    "data"
   ]
  },
  {
   "cell_type": "code",
   "execution_count": 69,
   "metadata": {},
   "outputs": [],
   "source": [
    "plt.rc('font', **{'family': 'Microsoft YaHei, SimHei'})"
   ]
  },
  {
   "cell_type": "code",
   "execution_count": 55,
   "metadata": {},
   "outputs": [
    {
     "data": {
      "text/plain": [
       "<AxesSubplot:>"
      ]
     },
     "execution_count": 55,
     "metadata": {},
     "output_type": "execute_result"
    },
    {
     "data": {
      "image/png": "[encoded data removed]",
      "text/plain": [
       "<Figure size 432x288 with 1 Axes>"
      ]
     },
     "metadata": {
      "needs_background": "light"
     },
     "output_type": "display_data"
    }
   ],
   "source": [
    "plt.subplot(2,2,1)"
   ]
  },
  {
   "cell_type": "code",
   "execution_count": 70,
   "metadata": {},
   "outputs": [
    {
     "data": {
      "image/png": "[encoded data removed]",
      "text/plain": [
       "<Figure size 432x288 with 1 Axes>"
      ]
     },
     "metadata": {
      "needs_background": "light"
     },
     "output_type": "display_data"
    }
   ],
   "source": [
    "plt.subplot(2,2,1)\n",
    "plt.plot(data['城市'], data['月均工资'])\n",
    "plt.show()"
   ]
  },
  {
   "cell_type": "code",
   "execution_count": 71,
   "metadata": {},
   "outputs": [
    {
     "data": {
      "text/html": [
       "<div>\n",
       "<style scoped>\n",
       "    .dataframe tbody tr th:only-of-type {\n",
       "        vertical-align: middle;\n",
       "    }\n",
       "\n",
       "    .dataframe tbody tr th {\n",
       "        vertical-align: top;\n",
       "    }\n",
       "\n",
       "    .dataframe thead th {\n",
       "        text-align: right;\n",
       "    }\n",
       "</style>\n",
       "<table border=\"1\" class=\"dataframe\">\n",
       "  <thead>\n",
       "    <tr style=\"text-align: right;\">\n",
       "      <th></th>\n",
       "      <th>排名</th>\n",
       "      <th>城市</th>\n",
       "      <th>月均工资</th>\n",
       "    </tr>\n",
       "  </thead>\n",
       "  <tbody>\n",
       "    <tr>\n",
       "      <th>0</th>\n",
       "      <td>1</td>\n",
       "      <td>北京</td>\n",
       "      <td>9240</td>\n",
       "    </tr>\n",
       "    <tr>\n",
       "      <th>1</th>\n",
       "      <td>2</td>\n",
       "      <td>上海</td>\n",
       "      <td>8962</td>\n",
       "    </tr>\n",
       "    <tr>\n",
       "      <th>2</th>\n",
       "      <td>3</td>\n",
       "      <td>深圳</td>\n",
       "      <td>8315</td>\n",
       "    </tr>\n",
       "    <tr>\n",
       "      <th>3</th>\n",
       "      <td>4</td>\n",
       "      <td>广州</td>\n",
       "      <td>7409</td>\n",
       "    </tr>\n",
       "    <tr>\n",
       "      <th>4</th>\n",
       "      <td>5</td>\n",
       "      <td>杭州</td>\n",
       "      <td>7330</td>\n",
       "    </tr>\n",
       "    <tr>\n",
       "      <th>5</th>\n",
       "      <td>6</td>\n",
       "      <td>宁波</td>\n",
       "      <td>7000</td>\n",
       "    </tr>\n",
       "    <tr>\n",
       "      <th>6</th>\n",
       "      <td>7</td>\n",
       "      <td>佛山</td>\n",
       "      <td>6889</td>\n",
       "    </tr>\n",
       "    <tr>\n",
       "      <th>7</th>\n",
       "      <td>8</td>\n",
       "      <td>东莞</td>\n",
       "      <td>6809</td>\n",
       "    </tr>\n",
       "  </tbody>\n",
       "</table>\n",
       "</div>"
      ],
      "text/plain": [
       "   排名  城市  月均工资\n",
       "0   1  北京  9240\n",
       "1   2  上海  8962\n",
       "2   3  深圳  8315\n",
       "3   4  广州  7409\n",
       "4   5  杭州  7330\n",
       "5   6  宁波  7000\n",
       "6   7  佛山  6889\n",
       "7   8  东莞  6809"
      ]
     },
     "execution_count": 71,
     "metadata": {},
     "output_type": "execute_result"
    }
   ],
   "source": [
    "data"
   ]
  },
  {
   "cell_type": "code",
   "execution_count": 72,
   "metadata": {},
   "outputs": [
    {
     "data": {
      "text/html": [
       "<div>\n",
       "<style scoped>\n",
       "    .dataframe tbody tr th:only-of-type {\n",
       "        vertical-align: middle;\n",
       "    }\n",
       "\n",
       "    .dataframe tbody tr th {\n",
       "        vertical-align: top;\n",
       "    }\n",
       "\n",
       "    .dataframe thead th {\n",
       "        text-align: right;\n",
       "    }\n",
       "</style>\n",
       "<table border=\"1\" class=\"dataframe\">\n",
       "  <thead>\n",
       "    <tr style=\"text-align: right;\">\n",
       "      <th></th>\n",
       "      <th>排名</th>\n",
       "      <th>城市</th>\n",
       "      <th>月均工资</th>\n",
       "    </tr>\n",
       "    <tr>\n",
       "      <th>城市</th>\n",
       "      <th></th>\n",
       "      <th></th>\n",
       "      <th></th>\n",
       "    </tr>\n",
       "  </thead>\n",
       "  <tbody>\n",
       "    <tr>\n",
       "      <th>北京</th>\n",
       "      <td>1</td>\n",
       "      <td>北京</td>\n",
       "      <td>9240</td>\n",
       "    </tr>\n",
       "    <tr>\n",
       "      <th>上海</th>\n",
       "      <td>2</td>\n",
       "      <td>上海</td>\n",
       "      <td>8962</td>\n",
       "    </tr>\n",
       "    <tr>\n",
       "      <th>深圳</th>\n",
       "      <td>3</td>\n",
       "      <td>深圳</td>\n",
       "      <td>8315</td>\n",
       "    </tr>\n",
       "    <tr>\n",
       "      <th>广州</th>\n",
       "      <td>4</td>\n",
       "      <td>广州</td>\n",
       "      <td>7409</td>\n",
       "    </tr>\n",
       "    <tr>\n",
       "      <th>杭州</th>\n",
       "      <td>5</td>\n",
       "      <td>杭州</td>\n",
       "      <td>7330</td>\n",
       "    </tr>\n",
       "    <tr>\n",
       "      <th>宁波</th>\n",
       "      <td>6</td>\n",
       "      <td>宁波</td>\n",
       "      <td>7000</td>\n",
       "    </tr>\n",
       "    <tr>\n",
       "      <th>佛山</th>\n",
       "      <td>7</td>\n",
       "      <td>佛山</td>\n",
       "      <td>6889</td>\n",
       "    </tr>\n",
       "    <tr>\n",
       "      <th>东莞</th>\n",
       "      <td>8</td>\n",
       "      <td>东莞</td>\n",
       "      <td>6809</td>\n",
       "    </tr>\n",
       "  </tbody>\n",
       "</table>\n",
       "</div>"
      ],
      "text/plain": [
       "    排名  城市  月均工资\n",
       "城市              \n",
       "北京   1  北京  9240\n",
       "上海   2  上海  8962\n",
       "深圳   3  深圳  8315\n",
       "广州   4  广州  7409\n",
       "杭州   5  杭州  7330\n",
       "宁波   6  宁波  7000\n",
       "佛山   7  佛山  6889\n",
       "东莞   8  东莞  6809"
      ]
     },
     "execution_count": 72,
     "metadata": {},
     "output_type": "execute_result"
    }
   ],
   "source": [
    "data.index = data['城市']\n",
    "data"
   ]
  },
  {
   "cell_type": "code",
   "execution_count": 73,
   "metadata": {},
   "outputs": [
    {
     "data": {
      "text/html": [
       "<div>\n",
       "<style scoped>\n",
       "    .dataframe tbody tr th:only-of-type {\n",
       "        vertical-align: middle;\n",
       "    }\n",
       "\n",
       "    .dataframe tbody tr th {\n",
       "        vertical-align: top;\n",
       "    }\n",
       "\n",
       "    .dataframe thead th {\n",
       "        text-align: right;\n",
       "    }\n",
       "</style>\n",
       "<table border=\"1\" class=\"dataframe\">\n",
       "  <thead>\n",
       "    <tr style=\"text-align: right;\">\n",
       "      <th></th>\n",
       "      <th>排名</th>\n",
       "      <th>月均工资</th>\n",
       "    </tr>\n",
       "    <tr>\n",
       "      <th>城市</th>\n",
       "      <th></th>\n",
       "      <th></th>\n",
       "    </tr>\n",
       "  </thead>\n",
       "  <tbody>\n",
       "    <tr>\n",
       "      <th>北京</th>\n",
       "      <td>1</td>\n",
       "      <td>9240</td>\n",
       "    </tr>\n",
       "    <tr>\n",
       "      <th>上海</th>\n",
       "      <td>2</td>\n",
       "      <td>8962</td>\n",
       "    </tr>\n",
       "    <tr>\n",
       "      <th>深圳</th>\n",
       "      <td>3</td>\n",
       "      <td>8315</td>\n",
       "    </tr>\n",
       "    <tr>\n",
       "      <th>广州</th>\n",
       "      <td>4</td>\n",
       "      <td>7409</td>\n",
       "    </tr>\n",
       "    <tr>\n",
       "      <th>杭州</th>\n",
       "      <td>5</td>\n",
       "      <td>7330</td>\n",
       "    </tr>\n",
       "    <tr>\n",
       "      <th>宁波</th>\n",
       "      <td>6</td>\n",
       "      <td>7000</td>\n",
       "    </tr>\n",
       "    <tr>\n",
       "      <th>佛山</th>\n",
       "      <td>7</td>\n",
       "      <td>6889</td>\n",
       "    </tr>\n",
       "    <tr>\n",
       "      <th>东莞</th>\n",
       "      <td>8</td>\n",
       "      <td>6809</td>\n",
       "    </tr>\n",
       "  </tbody>\n",
       "</table>\n",
       "</div>"
      ],
      "text/plain": [
       "    排名  月均工资\n",
       "城市          \n",
       "北京   1  9240\n",
       "上海   2  8962\n",
       "深圳   3  8315\n",
       "广州   4  7409\n",
       "杭州   5  7330\n",
       "宁波   6  7000\n",
       "佛山   7  6889\n",
       "东莞   8  6809"
      ]
     },
     "execution_count": 73,
     "metadata": {},
     "output_type": "execute_result"
    }
   ],
   "source": [
    "data = data.set_index('城市')\n",
    "data"
   ]
  },
  {
   "cell_type": "code",
   "execution_count": 74,
   "metadata": {},
   "outputs": [
    {
     "data": {
      "image/png": "[encoded data removed]",
      "text/plain": [
       "<Figure size 432x288 with 1 Axes>"
      ]
     },
     "metadata": {
      "needs_background": "light"
     },
     "output_type": "display_data"
    }
   ],
   "source": [
    "plt.subplot(2,2,1)\n",
    "plt.bar(data.index, data['月均工资'])\n",
    "plt.show()"
   ]
  },
  {
   "cell_type": "code",
   "execution_count": 76,
   "metadata": {},
   "outputs": [
    {
     "data": {
      "image/png": "[encoded data removed]",
      "text/plain": [
       "<Figure size 432x288 with 1 Axes>"
      ]
     },
     "metadata": {
      "needs_background": "light"
     },
     "output_type": "display_data"
    }
   ],
   "source": [
    "data[['月均工资']].boxplot()\n",
    "plt.show()"
   ]
  },
  {
   "cell_type": "code",
   "execution_count": 78,
   "metadata": {},
   "outputs": [
    {
     "data": {
      "image/png": "[encoded data removed]",
      "text/plain": [
       "<Figure size 432x288 with 1 Axes>"
      ]
     },
     "metadata": {
      "needs_background": "light"
     },
     "output_type": "display_data"
    }
   ],
   "source": [
    "data[['月均工资']].hist()\n",
    "plt.show()"
   ]
  },
  {
   "cell_type": "code",
   "execution_count": 79,
   "metadata": {},
   "outputs": [
    {
     "data": {
      "image/png": "[encoded data removed]",
      "text/plain": [
       "<Figure size 432x288 with 3 Axes>"
      ]
     },
     "metadata": {
      "needs_background": "light"
     },
     "output_type": "display_data"
    }
   ],
   "source": [
    "plt.subplot(2,2,1)\n",
    "plt.plot(data.index, data['月均工资'])\n",
    "\n",
    "\n",
    "plt.subplot(2,2,2)\n",
    "plt.bar(data.index, data['月均工资'])\n",
    "\n",
    "\n",
    "plt.subplot(2,1,2)\n",
    "plt.bar(data.index, data['月均工资'])\n",
    "plt.show()"
   ]
  },
  {
   "cell_type": "code",
   "execution_count": 80,
   "metadata": {},
   "outputs": [
    {
     "data": {
      "text/html": [
       "<div>\n",
       "<style scoped>\n",
       "    .dataframe tbody tr th:only-of-type {\n",
       "        vertical-align: middle;\n",
       "    }\n",
       "\n",
       "    .dataframe tbody tr th {\n",
       "        vertical-align: top;\n",
       "    }\n",
       "\n",
       "    .dataframe thead th {\n",
       "        text-align: right;\n",
       "    }\n",
       "</style>\n",
       "<table border=\"1\" class=\"dataframe\">\n",
       "  <thead>\n",
       "    <tr style=\"text-align: right;\">\n",
       "      <th></th>\n",
       "      <th>A</th>\n",
       "      <th>B</th>\n",
       "      <th>C</th>\n",
       "      <th>D</th>\n",
       "    </tr>\n",
       "  </thead>\n",
       "  <tbody>\n",
       "    <tr>\n",
       "      <th>0</th>\n",
       "      <td>0.402880</td>\n",
       "      <td>0.354298</td>\n",
       "      <td>0.500614</td>\n",
       "      <td>0.445177</td>\n",
       "    </tr>\n",
       "    <tr>\n",
       "      <th>1</th>\n",
       "      <td>0.090433</td>\n",
       "      <td>0.273563</td>\n",
       "      <td>0.943477</td>\n",
       "      <td>0.026545</td>\n",
       "    </tr>\n",
       "    <tr>\n",
       "      <th>2</th>\n",
       "      <td>0.039999</td>\n",
       "      <td>0.283140</td>\n",
       "      <td>0.582344</td>\n",
       "      <td>0.990893</td>\n",
       "    </tr>\n",
       "    <tr>\n",
       "      <th>3</th>\n",
       "      <td>0.992642</td>\n",
       "      <td>0.993117</td>\n",
       "      <td>0.110048</td>\n",
       "      <td>0.664481</td>\n",
       "    </tr>\n",
       "    <tr>\n",
       "      <th>4</th>\n",
       "      <td>0.523987</td>\n",
       "      <td>0.173150</td>\n",
       "      <td>0.942960</td>\n",
       "      <td>0.241860</td>\n",
       "    </tr>\n",
       "    <tr>\n",
       "      <th>5</th>\n",
       "      <td>0.998932</td>\n",
       "      <td>0.582694</td>\n",
       "      <td>0.183279</td>\n",
       "      <td>0.386845</td>\n",
       "    </tr>\n",
       "    <tr>\n",
       "      <th>6</th>\n",
       "      <td>0.189674</td>\n",
       "      <td>0.410771</td>\n",
       "      <td>0.594680</td>\n",
       "      <td>0.716586</td>\n",
       "    </tr>\n",
       "    <tr>\n",
       "      <th>7</th>\n",
       "      <td>0.486891</td>\n",
       "      <td>0.309590</td>\n",
       "      <td>0.577441</td>\n",
       "      <td>0.441708</td>\n",
       "    </tr>\n",
       "    <tr>\n",
       "      <th>8</th>\n",
       "      <td>0.359678</td>\n",
       "      <td>0.321332</td>\n",
       "      <td>0.208207</td>\n",
       "      <td>0.451259</td>\n",
       "    </tr>\n",
       "    <tr>\n",
       "      <th>9</th>\n",
       "      <td>0.491843</td>\n",
       "      <td>0.899076</td>\n",
       "      <td>0.729360</td>\n",
       "      <td>0.770090</td>\n",
       "    </tr>\n",
       "  </tbody>\n",
       "</table>\n",
       "</div>"
      ],
      "text/plain": [
       "          A         B         C         D\n",
       "0  0.402880  0.354298  0.500614  0.445177\n",
       "1  0.090433  0.273563  0.943477  0.026545\n",
       "2  0.039999  0.283140  0.582344  0.990893\n",
       "3  0.992642  0.993117  0.110048  0.664481\n",
       "4  0.523987  0.173150  0.942960  0.241860\n",
       "5  0.998932  0.582694  0.183279  0.386845\n",
       "6  0.189674  0.410771  0.594680  0.716586\n",
       "7  0.486891  0.309590  0.577441  0.441708\n",
       "8  0.359678  0.321332  0.208207  0.451259\n",
       "9  0.491843  0.899076  0.729360  0.770090"
      ]
     },
     "execution_count": 80,
     "metadata": {},
     "output_type": "execute_result"
    }
   ],
   "source": [
    "import numpy as np\n",
    "data = pd.DataFrame(np.random.rand(10,4), columns = ('A', 'B', 'C', 'D'))\n",
    "data"
   ]
  },
  {
   "cell_type": "code",
   "execution_count": 81,
   "metadata": {},
   "outputs": [
    {
     "data": {
      "image/png": "[encoded data removed]",
      "text/plain": [
       "<Figure size 432x288 with 1 Axes>"
      ]
     },
     "metadata": {
      "needs_background": "light"
     },
     "output_type": "display_data"
    }
   ],
   "source": [
    "data.plot(kind = 'barh')\n",
    "plt.show()"
   ]
  },
  {
   "cell_type": "code",
   "execution_count": 84,
   "metadata": {},
   "outputs": [
    {
     "data": {
      "image/png": "[encoded data removed]",
      "text/plain": [
       "<Figure size 432x288 with 1 Axes>"
      ]
     },
     "metadata": {
      "needs_background": "light"
     },
     "output_type": "display_data"
    }
   ],
   "source": [
    "data.plot(kind = 'barh', stacked = True)\n",
    "plt.show()"
   ]
  },
  {
   "cell_type": "code",
   "execution_count": 86,
   "metadata": {},
   "outputs": [
    {
     "data": {
      "text/plain": [
       "<Figure size 432x288 with 0 Axes>"
      ]
     },
     "metadata": {},
     "output_type": "display_data"
    }
   ],
   "source": [
    "plt.savefig('./test.png')"
   ]
  },
  {
   "cell_type": "code",
   "execution_count": null,
   "metadata": {},
   "outputs": [],
   "source": []
  }
 ],
 "metadata": {
  "kernelspec": {
   "display_name": "Python 3",
   "language": "python",
   "name": "python3"
  },
  "language_info": {
   "codemirror_mode": {
    "name": "ipython",
    "version": 3
   },
   "file_extension": ".py",
   "mimetype": "text/x-python",
   "name": "python",
   "nbconvert_exporter": "python",
   "pygments_lexer": "ipython3",
   "version": "3.8.6"
  }
 },
 "nbformat": 4,
 "nbformat_minor": 4
}
